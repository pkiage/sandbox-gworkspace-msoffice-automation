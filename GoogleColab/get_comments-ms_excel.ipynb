{
 "cells": [
  {
   "cell_type": "code",
   "execution_count": null,
   "id": "42b644e9",
   "metadata": {
    "vscode": {
     "languageId": "plaintext"
    }
   },
   "outputs": [],
   "source": [
    "# Copyright 2025 The Contributors\n",
    "# Licensed under the Apache License, Version 2.0 (the \"License\");\n",
    "# you may not use this file except in compliance with the License.\n",
    "# You may obtain a copy of the License at\n",
    "#\n",
    "#     http://www.apache.org/licenses/LICENSE-2.0\n",
    "#\n",
    "# Unless required by applicable law or agreed to in writing, software\n",
    "# distributed under the License is distributed on an \"AS IS\" BASIS,\n",
    "# WITHOUT WARRANTIES OR CONDITIONS OF ANY KIND, either express or implied.\n",
    "# See the License for the specific language governing permissions and\n",
    "# limitations under the License."
   ]
  },
  {
   "cell_type": "markdown",
   "id": "051da254",
   "metadata": {},
   "source": [
    "[![Open in Colab](https://colab.research.google.com/assets/colab-badge.svg)](https://colab.research.google.com/github/pkiage/sandbox-gworkspace-msoffice-automation/blob/main/GoogleColab/get_comments-ms_excel.ipynb)"
   ]
  },
  {
   "cell_type": "code",
   "execution_count": null,
   "id": "48b057ab",
   "metadata": {
    "vscode": {
     "languageId": "plaintext"
    }
   },
   "outputs": [],
   "source": [
    "# 0. Install and import libraries in Google Colab\n",
    "from google.colab import files\n",
    "import openpyxl\n",
    "import pandas as pd\n",
    "!pip install openpyxl --quiet"
   ]
  },
  {
   "cell_type": "code",
   "execution_count": null,
   "id": "e5926962",
   "metadata": {
    "vscode": {
     "languageId": "plaintext"
    }
   },
   "outputs": [],
   "source": [
    "# 1. Upload Excel file\n",
    "uploaded = files.upload()\n",
    "excel_path = next(iter(uploaded.keys()))"
   ]
  },
  {
   "cell_type": "code",
   "execution_count": null,
   "id": "3771675c",
   "metadata": {
    "vscode": {
     "languageId": "plaintext"
    }
   },
   "outputs": [],
   "source": [
    "# 2. Fix mojibake (garbled Unicode)\n",
    "def fix_mojibake(text):\n",
    "    try:\n",
    "        return text.encode('latin1').decode('utf-8')\n",
    "    except Exception:\n",
    "        return text"
   ]
  },
  {
   "cell_type": "code",
   "execution_count": null,
   "id": "94c53aca",
   "metadata": {
    "vscode": {
     "languageId": "plaintext"
    }
   },
   "outputs": [],
   "source": [
    "# 3. Clean comment: remove everything before \"Comment:\"\n",
    "def clean_comment(text):\n",
    "    if \"Comment:\" in text:\n",
    "        text = text.split(\"Comment:\", 1)[1]\n",
    "    return text.strip()"
   ]
  },
  {
   "cell_type": "code",
   "execution_count": null,
   "id": "604a408c",
   "metadata": {
    "vscode": {
     "languageId": "plaintext"
    }
   },
   "outputs": [],
   "source": [
    "# 4. Load workbook and extract comments\n",
    "wb = openpyxl.load_workbook(excel_path)\n",
    "records = []\n",
    "\n",
    "for sheet in wb.sheetnames:\n",
    "    ws = wb[sheet]\n",
    "    for row in ws.iter_rows():\n",
    "        for cell in row:\n",
    "            if cell.comment:\n",
    "                raw = cell.comment.text\n",
    "                cleaned = clean_comment(raw)\n",
    "                fixed = fix_mojibake(cleaned)\n",
    "                records.append({\n",
    "                    'sheet': sheet,\n",
    "                    'cell': cell.coordinate,\n",
    "                    'author': cell.comment.author,\n",
    "                    'comment': fixed\n",
    "                })"
   ]
  },
  {
   "cell_type": "code",
   "execution_count": null,
   "id": "e90b73ce",
   "metadata": {
    "vscode": {
     "languageId": "plaintext"
    }
   },
   "outputs": [],
   "source": [
    "# 5. Save to CSV\n",
    "df = pd.DataFrame(records)\n",
    "df.to_csv('excel_comments_clean.csv', index=False)\n",
    "print(f\"Wrote {len(df)} cleaned comments to excel_comments_clean.csv\")"
   ]
  },
  {
   "cell_type": "code",
   "execution_count": null,
   "id": "bd6fca81",
   "metadata": {
    "vscode": {
     "languageId": "plaintext"
    }
   },
   "outputs": [],
   "source": [
    "# 6. Download\n",
    "files.download('excel_comments_clean.csv')"
   ]
  }
 ],
 "metadata": {
  "language_info": {
   "name": "python"
  }
 },
 "nbformat": 4,
 "nbformat_minor": 5
}
