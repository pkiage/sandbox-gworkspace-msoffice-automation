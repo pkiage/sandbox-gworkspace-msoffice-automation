{
 "cells": [
  {
   "cell_type": "code",
   "execution_count": null,
   "id": "bd94c85d",
   "metadata": {
    "vscode": {
     "languageId": "plaintext"
    }
   },
   "outputs": [],
   "source": [
    "# Copyright 2025 The Contributors\n",
    "# Licensed under the Apache License, Version 2.0 (the \"License\");\n",
    "# you may not use this file except in compliance with the License.\n",
    "# You may obtain a copy of the License at\n",
    "#\n",
    "#     http://www.apache.org/licenses/LICENSE-2.0\n",
    "#\n",
    "# Unless required by applicable law or agreed to in writing, software\n",
    "# distributed under the License is distributed on an \"AS IS\" BASIS,\n",
    "# WITHOUT WARRANTIES OR CONDITIONS OF ANY KIND, either express or implied.\n",
    "# See the License for the specific language governing permissions and\n",
    "# limitations under the License."
   ]
  },
  {
   "cell_type": "code",
   "execution_count": null,
   "id": "d7e3aabf",
   "metadata": {
    "vscode": {
     "languageId": "plaintext"
    }
   },
   "outputs": [],
   "source": [
    "# 0. Install and import libraries in Google Colab\n",
    "!pip install python-docx lxml\n",
    "\n",
    "from docx import Document\n",
    "from google.colab import files\n",
    "import csv, zipfile, io\n",
    "from lxml import etree as ET   # robust XML parsing"
   ]
  },
  {
   "cell_type": "code",
   "execution_count": null,
   "id": "94852651",
   "metadata": {
    "vscode": {
     "languageId": "plaintext"
    }
   },
   "outputs": [],
   "source": [
    "# 1. Define helper function\n",
    "def extract_comments(docx_path):\n",
    "    \"\"\"\n",
    "    Returns a list of [author, comment_text] pairs from a .docx,\n",
    "    using python‑docx first and raw‑XML fallback if needed.\n",
    "    \"\"\"\n",
    "    comments = []\n",
    "\n",
    "    # ----- Method A: python-docx (works when the comments part\n",
    "    # is properly linked to the main document) ----------------\n",
    "    try:\n",
    "        doc = Document(docx_path)\n",
    "        comments_part = getattr(doc.part, \"comments_part\", None)\n",
    "        if comments_part is not None:\n",
    "            for c in comments_part.comments:\n",
    "                # `c.text` merges paragraph breaks; that’s fine here\n",
    "                comments.append([c.author or \"\", c.text.strip()])\n",
    "    except Exception as e:\n",
    "        # don't crash if python-docx hits an edge‑case\n",
    "        pass\n",
    "\n",
    "    # ----- Method B: raw XML fallback -----------------------------------\n",
    "    if not comments:\n",
    "        with zipfile.ZipFile(docx_path) as z:\n",
    "            # Word stores comments in these parts\n",
    "            possible_parts = [\n",
    "                \"word/comments.xml\",           # classic comments\n",
    "                \"word/commentsExtended.xml\"    # modern comments (365)\n",
    "            ]\n",
    "            ns = {\"w\": \"http://schemas.openxmlformats.org/wordprocessingml/2006/main\"}\n",
    "\n",
    "            for part in possible_parts:\n",
    "                if part in z.namelist():\n",
    "                    xml_bytes = z.read(part)\n",
    "                    root = ET.fromstring(xml_bytes)\n",
    "\n",
    "                    for comm in root.findall(\".//w:comment\", ns):\n",
    "                        author = comm.get(\"{%s}author\" % ns[\"w\"], \"\")\n",
    "                        texts  = [t.text for t in comm.findall(\".//w:t\", ns) if t.text]\n",
    "                        comments.append([author, \" \".join(texts).strip()])\n",
    "\n",
    "    return comments"
   ]
  },
  {
   "cell_type": "code",
   "execution_count": null,
   "id": "ee15da67",
   "metadata": {
    "vscode": {
     "languageId": "plaintext"
    }
   },
   "outputs": [],
   "source": [
    "# 2. Upload your .docx file(s)\n",
    "uploaded = files.upload()"
   ]
  },
  {
   "cell_type": "code",
   "execution_count": null,
   "id": "01632bf0",
   "metadata": {
    "vscode": {
     "languageId": "plaintext"
    }
   },
   "outputs": [],
   "source": [
    "# 3. Process each upload and save to CSV\n",
    "for fn in uploaded.keys():\n",
    "    comments = extract_comments(fn)\n",
    "    if comments:\n",
    "        csv_name = f\"{fn.rsplit('.',1)[0]}_comments.csv\"\n",
    "        with open(csv_name, \"w\", newline=\"\", encoding=\"utf-8\") as f:\n",
    "            writer = csv.writer(f)\n",
    "            writer.writerow([\"Author\", \"Comment\"])\n",
    "            writer.writerows(comments)\n",
    "\n",
    "        print(f\"✅ {len(comments)} comments found. Saved → {csv_name}\")\n",
    "        files.download(csv_name)  # trigger browser download\n",
    "    else:\n",
    "        print(f\"⚠️  No comments detected in {fn}\")"
   ]
  }
 ],
 "metadata": {
  "language_info": {
   "name": "python"
  }
 },
 "nbformat": 4,
 "nbformat_minor": 5
}
