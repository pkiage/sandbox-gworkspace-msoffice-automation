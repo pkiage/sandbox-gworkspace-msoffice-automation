{
 "cells": [
  {
   "cell_type": "code",
   "execution_count": null,
   "id": "b472072e",
   "metadata": {
    "vscode": {
     "languageId": "plaintext"
    }
   },
   "outputs": [],
   "source": [
    "# Copyright 2025 The Contributors\n",
    "# Licensed under the Apache License, Version 2.0 (the \"License\");\n",
    "# you may not use this file except in compliance with the License.\n",
    "# You may obtain a copy of the License at\n",
    "#\n",
    "#     http://www.apache.org/licenses/LICENSE-2.0\n",
    "#\n",
    "# Unless required by applicable law or agreed to in writing, software\n",
    "# distributed under the License is distributed on an \"AS IS\" BASIS,\n",
    "# WITHOUT WARRANTIES OR CONDITIONS OF ANY KIND, either express or implied.\n",
    "# See the License for the specific language governing permissions and\n",
    "# limitations under the License."
   ]
  },
  {
   "cell_type": "markdown",
   "id": "4988ca54",
   "metadata": {},
   "source": [
    "Accepts an uploaded .pptx (or one mounted from Drive) and returns,\n",
    "for every comment and threaded reply:\n",
    "   • slide_number (1‑based, as shown in Slide Sorter)\n",
    "   • slide_id     (the presentation‑level r:id for that slide)\n",
    "   • comment_id   (top‑level comment’s ID; replies repeat this)\n",
    "   • author       (display name)\n",
    "   • text         (comment / reply text)\n",
    "   • created_time (timestamp if stored; else None)\n",
    "\n",
    " Outputs a pandas DataFrame for quick inspection and a CSV file at /content/pptx_comments_with_slides.csv."
   ]
  },
  {
   "cell_type": "code",
   "execution_count": null,
   "id": "fe361c60",
   "metadata": {
    "vscode": {
     "languageId": "plaintext"
    }
   },
   "outputs": [],
   "source": [
    "# 0. Install and import libraries in Google Colab\n",
    "!pip install -q python-pptx lxml pandas\n",
    "import io, zipfile, re, glob, os, posixpath, xml.etree.ElementTree as ET\n",
    "from datetime import datetime\n",
    "import pandas as pd\n",
    "from google.colab import files, drive"
   ]
  },
  {
   "cell_type": "code",
   "execution_count": null,
   "id": "d2316d55",
   "metadata": {
    "vscode": {
     "languageId": "plaintext"
    }
   },
   "outputs": [],
   "source": [
    "# 1. Pick latest *.pptx or prompt upload\n",
    "def _get_pptx():\n",
    "    pptx = sorted(glob.glob('/content/**/*.pptx', recursive=True),\n",
    "                  key=os.path.getmtime, reverse=True)\n",
    "    if pptx:\n",
    "        p = pptx[0]\n",
    "        with open(p, 'rb') as fh:\n",
    "            return os.path.basename(p), fh.read()\n",
    "    up = files.upload()\n",
    "    for fn, data in up.items():\n",
    "        if fn.lower().endswith('.pptx'):\n",
    "            return fn, data\n",
    "    raise RuntimeError(\"No .pptx provided\")"
   ]
  },
  {
   "cell_type": "code",
   "execution_count": null,
   "id": "bc7cddf9",
   "metadata": {
    "vscode": {
     "languageId": "plaintext"
    }
   },
   "outputs": [],
   "source": [
    "# 2 Helper for timestamp\n",
    "_TS_ATTRS = {'dt', 'created', 'createdtime', 'date', 'datetime'}\n",
    "def _timestamp(el):\n",
    "    \"\"\"Return first attribute whose local‑name is in _TS_ATTRS, else None.\"\"\"\n",
    "    for k, v in el.attrib.items():\n",
    "        if k.split('}')[-1].lower() in _TS_ATTRS:\n",
    "            return v\n",
    "    return None"
   ]
  },
  {
   "cell_type": "code",
   "execution_count": null,
   "id": "3b973da8",
   "metadata": {
    "vscode": {
     "languageId": "plaintext"
    }
   },
   "outputs": [],
   "source": [
    "# 3. Define core extractor function\n",
    "def extract_comments(raw: bytes) -> pd.DataFrame:\n",
    "    authors, cm2slide, rows = {}, {}, []\n",
    "    with zipfile.ZipFile(io.BytesIO(raw)) as z:\n",
    "        # 3.1 authors\n",
    "        for part in z.namelist():\n",
    "            if not part.lower().endswith('.xml'):  continue\n",
    "            root = ET.fromstring(z.read(part))\n",
    "            for a in root.findall('.//{*}author') + root.findall('.//{*}cmAuthor'):\n",
    "                k = a.get('id') or a.get('idx') or a.get('authorId')\n",
    "                n = a.get('name')\n",
    "                if k and n:\n",
    "                    authors.setdefault(k, n)\n",
    "\n",
    "        # 3.2 comment‑XML → slide #\n",
    "        for rel_part in z.namelist():\n",
    "            m = re.match(r'ppt/slides/_rels/slide(\\d+)\\.xml\\.rels', rel_part, re.I)\n",
    "            if not m:  continue\n",
    "            slide_no  = int(m.group(1))\n",
    "            slide_dir = posixpath.dirname(rel_part).replace('/_rels', '')\n",
    "            rel_root  = ET.fromstring(z.read(rel_part))\n",
    "            for rel in rel_root.findall('.//{*}Relationship'):\n",
    "                if 'comment' not in rel.get('Type','').lower():  continue\n",
    "                tgt = posixpath.normpath(posixpath.join(slide_dir, rel.get('Target')))\n",
    "                cm2slide[tgt] = slide_no\n",
    "\n",
    "        # 3.3 collect\n",
    "        for part in z.namelist():\n",
    "            lp = part.lower()\n",
    "            if ('comment' not in lp or not lp.endswith('.xml')\n",
    "                    or 'commentauthors' in lp or '_rels' in lp):  continue\n",
    "            slide_no = cm2slide.get(part)\n",
    "            if slide_no is None:\n",
    "                m = re.search(r'slide(\\d+)', part, re.I)\n",
    "                slide_no = int(m.group(1)) if m else None\n",
    "\n",
    "            root = ET.fromstring(z.read(part))\n",
    "\n",
    "            # legacy <comment>\n",
    "            for c in root.findall('.//{*}comment'):\n",
    "                rows.append({\n",
    "                    'slide_number': slide_no,\n",
    "                    'comment_id':   c.get('id') or c.get('idx'),\n",
    "                    'author':       authors.get(c.get('authorId') or c.get('idx')),\n",
    "                    'text':         ''.join(t.text or '' for t in c.findall('.//{*}t')),\n",
    "                    'created_time': _timestamp(c)\n",
    "                })\n",
    "            # threaded <cm>\n",
    "            for cm in root.findall('.//{*}cm'):\n",
    "                rows.append({\n",
    "                    'slide_number': slide_no,\n",
    "                    'comment_id':   cm.get('parentId') or cm.get('id') or cm.get('idx'),\n",
    "                    'author':       authors.get(cm.get('authorId') or cm.get('idx')),\n",
    "                    'text':         ''.join(t.text or '' for t in cm.findall('.//{*}t')),\n",
    "                    'created_time': _timestamp(cm)\n",
    "                })\n",
    "    return pd.DataFrame(rows)"
   ]
  },
  {
   "cell_type": "code",
   "execution_count": null,
   "id": "f3cda1d4",
   "metadata": {
    "vscode": {
     "languageId": "plaintext"
    }
   },
   "outputs": [],
   "source": [
    "# 4. Run extractor\n",
    "fname, raw = _get_pptx()\n",
    "df = extract_comments(raw)"
   ]
  },
  {
   "cell_type": "code",
   "execution_count": null,
   "id": "216b43e7",
   "metadata": {
    "vscode": {
     "languageId": "plaintext"
    }
   },
   "outputs": [],
   "source": [
    "# 5. View output\n",
    "pd.set_option('display.max_colwidth', 140)\n",
    "display(df)"
   ]
  },
  {
   "cell_type": "code",
   "execution_count": null,
   "id": "8e105fec",
   "metadata": {
    "vscode": {
     "languageId": "plaintext"
    }
   },
   "outputs": [],
   "source": [
    "# 6. Export to CSV\n",
    "csv = '/content/pptx_comments_with_slides.csv'\n",
    "df.to_csv(csv, index=False)\n",
    "print(f\"\\n✔ Saved to {csv}\")"
   ]
  }
 ],
 "metadata": {
  "language_info": {
   "name": "python"
  }
 },
 "nbformat": 4,
 "nbformat_minor": 5
}
