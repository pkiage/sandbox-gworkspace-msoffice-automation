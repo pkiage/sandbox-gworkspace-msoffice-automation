{
 "cells": [
  {
   "cell_type": "code",
   "execution_count": null,
   "id": "53969a32",
   "metadata": {
    "vscode": {
     "languageId": "plaintext"
    }
   },
   "outputs": [],
   "source": [
    "# Copyright 2025 The Contributors\n",
    "# Licensed under the Apache License, Version 2.0 (the \"License\");\n",
    "# you may not use this file except in compliance with the License.\n",
    "# You may obtain a copy of the License at\n",
    "#\n",
    "#     http://www.apache.org/licenses/LICENSE-2.0\n",
    "#\n",
    "# Unless required by applicable law or agreed to in writing, software\n",
    "# distributed under the License is distributed on an \"AS IS\" BASIS,\n",
    "# WITHOUT WARRANTIES OR CONDITIONS OF ANY KIND, either express or implied.\n",
    "# See the License for the specific language governing permissions and\n",
    "# limitations under the License."
   ]
  },
  {
   "cell_type": "markdown",
   "id": "775d7203",
   "metadata": {},
   "source": [
    "[![Open in Colab](https://colab.research.google.com/assets/colab-badge.svg)](https://colab.research.google.com/github/pkiage/sandbox-gworkspace-msoffice-automation/blob/main/GoogleColab/get_comments-text_to_csv.ipynb)"
   ]
  },
  {
   "cell_type": "code",
   "execution_count": null,
   "id": "84c6d422",
   "metadata": {
    "vscode": {
     "languageId": "plaintext"
    }
   },
   "outputs": [],
   "source": [
    "# 0. Install and import libraries\n",
    "import pandas as pd\n",
    "from io import StringIO"
   ]
  },
  {
   "cell_type": "code",
   "execution_count": null,
   "id": "3d3d83b3",
   "metadata": {
    "vscode": {
     "languageId": "plaintext"
    }
   },
   "outputs": [],
   "source": [
    "# 1. Define comma deliminated text data\n",
    "data = \"\"\"...\"\"\""
   ]
  },
  {
   "cell_type": "code",
   "execution_count": null,
   "id": "5a152b28",
   "metadata": {
    "vscode": {
     "languageId": "plaintext"
    }
   },
   "outputs": [],
   "source": [
    "# 2. Convert text into a Pandas DataFrame \n",
    "try:\n",
    "    # Try using the Python engine\n",
    "    df = pd.read_csv(StringIO(data), engine='python')\n",
    "except Exception as e:\n",
    "    print(f\"Python engine failed: {str(e)}\")\n",
    "\n",
    "    # If the Python engine fails, manually parse the data\n",
    "    rows = []\n",
    "    header = ['Aspect', 'Reflection Question', 'Low', 'Mid', 'High']\n",
    "    rows.append(header)\n",
    "\n",
    "    # Split the data into lines, skipping the header\n",
    "    lines = data.strip().split('\\n')[1:]\n",
    "\n",
    "    for line in lines:\n",
    "        # Use a manual approach to parse each line while respecting quotes\n",
    "        parts = []\n",
    "        current = \"\"\n",
    "        in_quotes = False\n",
    "\n",
    "        for char in line:\n",
    "            if char == '\"':\n",
    "                in_quotes = not in_quotes\n",
    "            elif char == ',' and not in_quotes:\n",
    "                parts.append(current.strip('\"'))\n",
    "                current = \"\"\n",
    "            else:\n",
    "                current += char\n",
    "\n",
    "        # Add the last part\n",
    "        parts.append(current.strip('\"'))\n",
    "        rows.append(parts)\n",
    "\n",
    "    # Create DataFrame from the parsed rows\n",
    "    df = pd.DataFrame(rows[1:], columns=rows[0])\n"
   ]
  },
  {
   "cell_type": "code",
   "execution_count": null,
   "id": "3da90fbf",
   "metadata": {
    "vscode": {
     "languageId": "plaintext"
    }
   },
   "outputs": [],
   "source": [
    "\n",
    "# 3. Save DataFrame as CSV\n",
    "csv_filename = \"criteria_evaluation.csv\"\n",
    "df.to_csv(csv_filename, index=False)"
   ]
  },
  {
   "cell_type": "code",
   "execution_count": null,
   "id": "b31b9502",
   "metadata": {
    "vscode": {
     "languageId": "plaintext"
    }
   },
   "outputs": [],
   "source": [
    "# 4. Display download link\n",
    "try:\n",
    "    from google.colab import files\n",
    "    files.download(csv_filename)\n",
    "except ImportError:\n",
    "    print(f\"CSV file saved as {csv_filename}\")"
   ]
  }
 ],
 "metadata": {
  "language_info": {
   "name": "python"
  }
 },
 "nbformat": 4,
 "nbformat_minor": 5
}
