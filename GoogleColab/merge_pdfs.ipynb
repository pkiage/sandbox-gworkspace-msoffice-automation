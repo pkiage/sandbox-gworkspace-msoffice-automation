{
 "cells": [
  {
   "cell_type": "code",
   "execution_count": null,
   "id": "3a344243",
   "metadata": {
    "vscode": {
     "languageId": "plaintext"
    }
   },
   "outputs": [],
   "source": [
    "# Copyright 2025 The Contributors\n",
    "# Licensed under the Apache License, Version 2.0 (the \"License\");\n",
    "# you may not use this file except in compliance with the License.\n",
    "# You may obtain a copy of the License at\n",
    "#\n",
    "#     http://www.apache.org/licenses/LICENSE-2.0\n",
    "#\n",
    "# Unless required by applicable law or agreed to in writing, software\n",
    "# distributed under the License is distributed on an \"AS IS\" BASIS,\n",
    "# WITHOUT WARRANTIES OR CONDITIONS OF ANY KIND, either express or implied.\n",
    "# See the License for the specific language governing permissions and\n",
    "# limitations under the License."
   ]
  },
  {
   "cell_type": "code",
   "execution_count": null,
   "id": "cbdf633e",
   "metadata": {
    "vscode": {
     "languageId": "plaintext"
    }
   },
   "outputs": [],
   "source": [
    "# 0. Install and import libraries in Google Colab\n",
    "!pip install PyPDF2\n",
    "from google.colab import files"
   ]
  },
  {
   "cell_type": "code",
   "execution_count": null,
   "id": "3a5fe2d2",
   "metadata": {
    "vscode": {
     "languageId": "plaintext"
    }
   },
   "outputs": [],
   "source": [
    "# 1. Upload PDFs\n",
    "uploaded = files.upload()"
   ]
  },
  {
   "cell_type": "code",
   "execution_count": null,
   "id": "40f8c1a5",
   "metadata": {
    "vscode": {
     "languageId": "plaintext"
    }
   },
   "outputs": [],
   "source": [
    "# 2. Merge PDFs\n",
    "from PyPDF2 import PdfMerger\n",
    "import os\n",
    "\n",
    "# Create merger object\n",
    "merger = PdfMerger()\n",
    "\n",
    "# Sort files to ensure consistent order\n",
    "pdf_files = sorted(uploaded.keys())\n",
    "\n",
    "# Merge each uploaded PDF\n",
    "for pdf_file in pdf_files:\n",
    "    merger.append(pdf_file)\n",
    "\n",
    "# Define output filename\n",
    "output_filename = \"merged_output.pdf\"\n",
    "merger.write(output_filename)\n",
    "merger.close()\n",
    "\n",
    "print(f\"Merged {len(pdf_files)} files into {output_filename}\")"
   ]
  },
  {
   "cell_type": "code",
   "execution_count": null,
   "id": "f35ed470",
   "metadata": {
    "vscode": {
     "languageId": "plaintext"
    }
   },
   "outputs": [],
   "source": [
    "# 3. Download the merged PDF\n",
    "files.download(\"merged_output.pdf\")"
   ]
  }
 ],
 "metadata": {
  "language_info": {
   "name": "python"
  }
 },
 "nbformat": 4,
 "nbformat_minor": 5
}
